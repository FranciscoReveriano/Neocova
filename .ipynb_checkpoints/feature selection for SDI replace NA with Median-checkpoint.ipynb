{
 "cells": [
  {
   "cell_type": "code",
   "execution_count": 1,
   "metadata": {
    "ExecuteTime": {
     "end_time": "2020-06-19T00:18:31.513165Z",
     "start_time": "2020-06-19T00:18:31.275280Z"
    }
   },
   "outputs": [],
   "source": [
    "import pandas as pd"
   ]
  },
  {
   "cell_type": "code",
   "execution_count": 2,
   "metadata": {
    "ExecuteTime": {
     "end_time": "2020-06-19T00:19:05.204077Z",
     "start_time": "2020-06-19T00:18:32.370495Z"
    }
   },
   "outputs": [],
   "source": [
    "DF=pd.read_csv(\"merged dataset_SDI_median.csv\")"
   ]
  },
  {
   "cell_type": "code",
   "execution_count": 6,
   "metadata": {},
   "outputs": [
    {
     "name": "stdout",
     "output_type": "stream",
     "text": [
      "<class 'pandas.core.frame.DataFrame'>\n",
      "RangeIndex: 435110 entries, 0 to 435109\n",
      "Columns: 761 entries, ABCUBK to voliab\n",
      "dtypes: float64(761)\n",
      "memory usage: 2.5 GB\n"
     ]
    }
   ],
   "source": [
    "DF1=DF.copy()\n",
    "DF1['net_asset']=DF1['asset']-DF1['liab']\n",
    "DF1['net_asset']\n",
    "DF1 = DF1[DF1.columns.difference(['asset', 'liab'])]\n",
    "DF1.info()"
   ]
  },
  {
   "cell_type": "code",
   "execution_count": 3,
   "metadata": {
    "ExecuteTime": {
     "end_time": "2020-06-19T00:19:09.923775Z",
     "start_time": "2020-06-19T00:19:09.821102Z"
    }
   },
   "outputs": [
    {
     "data": {
      "text/html": [
       "<div>\n",
       "<style scoped>\n",
       "    .dataframe tbody tr th:only-of-type {\n",
       "        vertical-align: middle;\n",
       "    }\n",
       "\n",
       "    .dataframe tbody tr th {\n",
       "        vertical-align: top;\n",
       "    }\n",
       "\n",
       "    .dataframe thead th {\n",
       "        text-align: right;\n",
       "    }\n",
       "</style>\n",
       "<table border=\"1\" class=\"dataframe\">\n",
       "  <thead>\n",
       "    <tr style=\"text-align: right;\">\n",
       "      <th></th>\n",
       "      <th>P3GTYPAR</th>\n",
       "      <th>P3GTY</th>\n",
       "      <th>P3GTYGNM</th>\n",
       "      <th>P9GTYPAR</th>\n",
       "      <th>P9GTY</th>\n",
       "      <th>P9GTYGNM</th>\n",
       "      <th>NAGTYPAR</th>\n",
       "      <th>NAGTY</th>\n",
       "      <th>NAGTYGNM</th>\n",
       "      <th>lnreres</th>\n",
       "      <th>...</th>\n",
       "      <th>SZUCCON</th>\n",
       "      <th>SZUCCI</th>\n",
       "      <th>SZUCOTH</th>\n",
       "      <th>UCSZRES</th>\n",
       "      <th>UCSZHEL</th>\n",
       "      <th>UCSZCRCD</th>\n",
       "      <th>UCSZAUTO</th>\n",
       "      <th>UCSZCON</th>\n",
       "      <th>UCSZCI</th>\n",
       "      <th>UCSZOTH</th>\n",
       "    </tr>\n",
       "  </thead>\n",
       "  <tbody>\n",
       "    <tr>\n",
       "      <th>0</th>\n",
       "      <td>0.0</td>\n",
       "      <td>0.0</td>\n",
       "      <td>0.0</td>\n",
       "      <td>0.0</td>\n",
       "      <td>0.0</td>\n",
       "      <td>0.0</td>\n",
       "      <td>0.0</td>\n",
       "      <td>0.0</td>\n",
       "      <td>0.0</td>\n",
       "      <td>0.0</td>\n",
       "      <td>...</td>\n",
       "      <td>0.0</td>\n",
       "      <td>0.0</td>\n",
       "      <td>0.0</td>\n",
       "      <td>0.0</td>\n",
       "      <td>0.0</td>\n",
       "      <td>0.0</td>\n",
       "      <td>0.0</td>\n",
       "      <td>0.0</td>\n",
       "      <td>0.0</td>\n",
       "      <td>0.0</td>\n",
       "    </tr>\n",
       "    <tr>\n",
       "      <th>1</th>\n",
       "      <td>0.0</td>\n",
       "      <td>0.0</td>\n",
       "      <td>0.0</td>\n",
       "      <td>0.0</td>\n",
       "      <td>0.0</td>\n",
       "      <td>0.0</td>\n",
       "      <td>0.0</td>\n",
       "      <td>0.0</td>\n",
       "      <td>0.0</td>\n",
       "      <td>39590.0</td>\n",
       "      <td>...</td>\n",
       "      <td>0.0</td>\n",
       "      <td>0.0</td>\n",
       "      <td>0.0</td>\n",
       "      <td>0.0</td>\n",
       "      <td>0.0</td>\n",
       "      <td>0.0</td>\n",
       "      <td>0.0</td>\n",
       "      <td>0.0</td>\n",
       "      <td>0.0</td>\n",
       "      <td>0.0</td>\n",
       "    </tr>\n",
       "    <tr>\n",
       "      <th>2</th>\n",
       "      <td>0.0</td>\n",
       "      <td>0.0</td>\n",
       "      <td>0.0</td>\n",
       "      <td>0.0</td>\n",
       "      <td>0.0</td>\n",
       "      <td>0.0</td>\n",
       "      <td>0.0</td>\n",
       "      <td>0.0</td>\n",
       "      <td>0.0</td>\n",
       "      <td>38296.0</td>\n",
       "      <td>...</td>\n",
       "      <td>0.0</td>\n",
       "      <td>0.0</td>\n",
       "      <td>0.0</td>\n",
       "      <td>0.0</td>\n",
       "      <td>0.0</td>\n",
       "      <td>0.0</td>\n",
       "      <td>0.0</td>\n",
       "      <td>0.0</td>\n",
       "      <td>0.0</td>\n",
       "      <td>0.0</td>\n",
       "    </tr>\n",
       "    <tr>\n",
       "      <th>3</th>\n",
       "      <td>0.0</td>\n",
       "      <td>0.0</td>\n",
       "      <td>0.0</td>\n",
       "      <td>0.0</td>\n",
       "      <td>0.0</td>\n",
       "      <td>0.0</td>\n",
       "      <td>0.0</td>\n",
       "      <td>0.0</td>\n",
       "      <td>0.0</td>\n",
       "      <td>37657.0</td>\n",
       "      <td>...</td>\n",
       "      <td>0.0</td>\n",
       "      <td>0.0</td>\n",
       "      <td>0.0</td>\n",
       "      <td>0.0</td>\n",
       "      <td>0.0</td>\n",
       "      <td>0.0</td>\n",
       "      <td>0.0</td>\n",
       "      <td>0.0</td>\n",
       "      <td>0.0</td>\n",
       "      <td>0.0</td>\n",
       "    </tr>\n",
       "    <tr>\n",
       "      <th>4</th>\n",
       "      <td>0.0</td>\n",
       "      <td>0.0</td>\n",
       "      <td>0.0</td>\n",
       "      <td>0.0</td>\n",
       "      <td>0.0</td>\n",
       "      <td>0.0</td>\n",
       "      <td>0.0</td>\n",
       "      <td>0.0</td>\n",
       "      <td>0.0</td>\n",
       "      <td>90275.0</td>\n",
       "      <td>...</td>\n",
       "      <td>0.0</td>\n",
       "      <td>0.0</td>\n",
       "      <td>0.0</td>\n",
       "      <td>0.0</td>\n",
       "      <td>0.0</td>\n",
       "      <td>0.0</td>\n",
       "      <td>0.0</td>\n",
       "      <td>0.0</td>\n",
       "      <td>0.0</td>\n",
       "      <td>0.0</td>\n",
       "    </tr>\n",
       "  </tbody>\n",
       "</table>\n",
       "<p>5 rows × 762 columns</p>\n",
       "</div>"
      ],
      "text/plain": [
       "   P3GTYPAR  P3GTY  P3GTYGNM  P9GTYPAR  P9GTY  P9GTYGNM  NAGTYPAR  NAGTY  \\\n",
       "0       0.0    0.0       0.0       0.0    0.0       0.0       0.0    0.0   \n",
       "1       0.0    0.0       0.0       0.0    0.0       0.0       0.0    0.0   \n",
       "2       0.0    0.0       0.0       0.0    0.0       0.0       0.0    0.0   \n",
       "3       0.0    0.0       0.0       0.0    0.0       0.0       0.0    0.0   \n",
       "4       0.0    0.0       0.0       0.0    0.0       0.0       0.0    0.0   \n",
       "\n",
       "   NAGTYGNM  lnreres  ...  SZUCCON  SZUCCI  SZUCOTH  UCSZRES  UCSZHEL  \\\n",
       "0       0.0      0.0  ...      0.0     0.0      0.0      0.0      0.0   \n",
       "1       0.0  39590.0  ...      0.0     0.0      0.0      0.0      0.0   \n",
       "2       0.0  38296.0  ...      0.0     0.0      0.0      0.0      0.0   \n",
       "3       0.0  37657.0  ...      0.0     0.0      0.0      0.0      0.0   \n",
       "4       0.0  90275.0  ...      0.0     0.0      0.0      0.0      0.0   \n",
       "\n",
       "   UCSZCRCD  UCSZAUTO  UCSZCON  UCSZCI  UCSZOTH  \n",
       "0       0.0       0.0      0.0     0.0      0.0  \n",
       "1       0.0       0.0      0.0     0.0      0.0  \n",
       "2       0.0       0.0      0.0     0.0      0.0  \n",
       "3       0.0       0.0      0.0     0.0      0.0  \n",
       "4       0.0       0.0      0.0     0.0      0.0  \n",
       "\n",
       "[5 rows x 762 columns]"
      ]
     },
     "execution_count": 3,
     "metadata": {},
     "output_type": "execute_result"
    }
   ],
   "source": [
    "DF.head()"
   ]
  },
  {
   "cell_type": "code",
   "execution_count": 5,
   "metadata": {
    "ExecuteTime": {
     "end_time": "2020-06-19T00:19:32.120483Z",
     "start_time": "2020-06-19T00:19:32.107799Z"
    }
   },
   "outputs": [
    {
     "ename": "ValueError",
     "evalue": "list.remove(x): x not in list",
     "output_type": "error",
     "traceback": [
      "\u001b[0;31m---------------------------------------------------------------------------\u001b[0m",
      "\u001b[0;31mValueError\u001b[0m                                Traceback (most recent call last)",
      "\u001b[0;32m<ipython-input-5-5785ebaa2401>\u001b[0m in \u001b[0;36m<module>\u001b[0;34m\u001b[0m\n\u001b[1;32m      1\u001b[0m \u001b[0mx_variables\u001b[0m\u001b[0;34m=\u001b[0m\u001b[0mlist\u001b[0m\u001b[0;34m(\u001b[0m\u001b[0mDF\u001b[0m\u001b[0;34m.\u001b[0m\u001b[0mcolumns\u001b[0m\u001b[0;34m)\u001b[0m\u001b[0;34m\u001b[0m\u001b[0;34m\u001b[0m\u001b[0m\n\u001b[0;32m----> 2\u001b[0;31m \u001b[0mx_variables\u001b[0m\u001b[0;34m.\u001b[0m\u001b[0mremove\u001b[0m\u001b[0;34m(\u001b[0m\u001b[0;34m'net_asset'\u001b[0m\u001b[0;34m)\u001b[0m\u001b[0;34m\u001b[0m\u001b[0;34m\u001b[0m\u001b[0m\n\u001b[0m",
      "\u001b[0;31mValueError\u001b[0m: list.remove(x): x not in list"
     ]
    }
   ],
   "source": [
    "x_variables=list(DF1.columns) \n",
    "x_variables.remove('net_asset')"
   ]
  },
  {
   "cell_type": "code",
   "execution_count": 6,
   "metadata": {
    "ExecuteTime": {
     "end_time": "2020-06-19T00:19:47.092289Z",
     "start_time": "2020-06-19T00:19:46.878117Z"
    }
   },
   "outputs": [],
   "source": [
    "import pandas as pd\n",
    "import random\n",
    "import matplotlib.pyplot as plt\n",
    "%matplotlib inline\n",
    "from matplotlib.pylab import rcParams\n",
    "rcParams['figure.figsize'] = 12, 10"
   ]
  },
  {
   "cell_type": "code",
   "execution_count": 7,
   "metadata": {
    "ExecuteTime": {
     "end_time": "2020-06-19T00:19:48.185853Z",
     "start_time": "2020-06-19T00:19:47.726874Z"
    }
   },
   "outputs": [],
   "source": [
    "from sklearn.linear_model import Ridge\n",
    "def ridge_regression(data, predictors, alpha):\n",
    "    #Fit the model\n",
    "    ridgereg = Ridge(alpha=alpha,normalize=True)\n",
    "    ridgereg.fit(data[predictors],data['net_asset'])\n",
    "    y_pred = ridgereg.predict(data[predictors])\n",
    "    \n",
    "    #Return the result in pre-defined format\n",
    "    rss = sum((y_pred-data['net_asset'])**2)\n",
    "    ret = [rss]\n",
    "    ret.extend([ridgereg.intercept_])\n",
    "    ret.extend(ridgereg.coef_)\n",
    "    return ret"
   ]
  },
  {
   "cell_type": "code",
   "execution_count": 8,
   "metadata": {
    "ExecuteTime": {
     "end_time": "2020-06-19T00:19:49.504792Z",
     "start_time": "2020-06-19T00:19:49.421308Z"
    }
   },
   "outputs": [
    {
     "ename": "NameError",
     "evalue": "name 'DF1' is not defined",
     "output_type": "error",
     "traceback": [
      "\u001b[0;31m---------------------------------------------------------------------------\u001b[0m",
      "\u001b[0;31mNameError\u001b[0m                                 Traceback (most recent call last)",
      "\u001b[0;32m<ipython-input-8-7baf6a29e7dd>\u001b[0m in \u001b[0;36m<module>\u001b[0;34m\u001b[0m\n\u001b[1;32m     10\u001b[0m \u001b[0mcoef_matrix_ridge\u001b[0m \u001b[0;34m=\u001b[0m \u001b[0mpd\u001b[0m\u001b[0;34m.\u001b[0m\u001b[0mDataFrame\u001b[0m\u001b[0;34m(\u001b[0m\u001b[0mindex\u001b[0m\u001b[0;34m=\u001b[0m\u001b[0mind\u001b[0m\u001b[0;34m,\u001b[0m \u001b[0mcolumns\u001b[0m\u001b[0;34m=\u001b[0m\u001b[0mcol\u001b[0m\u001b[0;34m)\u001b[0m\u001b[0;34m\u001b[0m\u001b[0;34m\u001b[0m\u001b[0m\n\u001b[1;32m     11\u001b[0m \u001b[0;32mfor\u001b[0m \u001b[0mi\u001b[0m \u001b[0;32min\u001b[0m \u001b[0mrange\u001b[0m\u001b[0;34m(\u001b[0m\u001b[0mlen\u001b[0m\u001b[0;34m(\u001b[0m\u001b[0malpha_ridge\u001b[0m\u001b[0;34m)\u001b[0m\u001b[0;34m)\u001b[0m\u001b[0;34m:\u001b[0m\u001b[0;34m\u001b[0m\u001b[0;34m\u001b[0m\u001b[0m\n\u001b[0;32m---> 12\u001b[0;31m     \u001b[0mcoef_matrix_ridge\u001b[0m\u001b[0;34m.\u001b[0m\u001b[0miloc\u001b[0m\u001b[0;34m[\u001b[0m\u001b[0mi\u001b[0m\u001b[0;34m,\u001b[0m\u001b[0;34m]\u001b[0m \u001b[0;34m=\u001b[0m \u001b[0mridge_regression\u001b[0m\u001b[0;34m(\u001b[0m\u001b[0mDF1\u001b[0m\u001b[0;34m,\u001b[0m \u001b[0mpredictors\u001b[0m\u001b[0;34m,\u001b[0m \u001b[0malpha_ridge\u001b[0m\u001b[0;34m[\u001b[0m\u001b[0mi\u001b[0m\u001b[0;34m]\u001b[0m\u001b[0;34m)\u001b[0m\u001b[0;34m\u001b[0m\u001b[0;34m\u001b[0m\u001b[0m\n\u001b[0m\u001b[1;32m     13\u001b[0m \u001b[0;34m\u001b[0m\u001b[0m\n",
      "\u001b[0;31mNameError\u001b[0m: name 'DF1' is not defined"
     ]
    }
   ],
   "source": [
    "#Initialize predictors to be set of 15 powers of x\n",
    "predictors=x_variables\n",
    "\n",
    "#Set the different values of alpha to be tested\n",
    "alpha_ridge = [1e-15, 1e-10, 1e-8, 1e-4, 1e-3,1e-2, 1, 5, 10, 20]\n",
    "\n",
    "#Initialize the dataframe for storing coefficients.\n",
    "col = ['rss','intercept'] + x_variables\n",
    "ind = ['alpha_%.2g'%alpha_ridge[i] for i in range(len(alpha_ridge))]\n",
    "coef_matrix_ridge = pd.DataFrame(index=ind, columns=col)\n",
    "for i in range(len(alpha_ridge)):\n",
    "    coef_matrix_ridge.iloc[i,] = ridge_regression(DF1, predictors, alpha_ridge[i])\n",
    "\n"
   ]
  },
  {
   "cell_type": "code",
   "execution_count": 27,
   "metadata": {},
   "outputs": [
    {
     "data": {
      "text/html": [
       "<div>\n",
       "<style scoped>\n",
       "    .dataframe tbody tr th:only-of-type {\n",
       "        vertical-align: middle;\n",
       "    }\n",
       "\n",
       "    .dataframe tbody tr th {\n",
       "        vertical-align: top;\n",
       "    }\n",
       "\n",
       "    .dataframe thead th {\n",
       "        text-align: right;\n",
       "    }\n",
       "</style>\n",
       "<table border=\"1\" class=\"dataframe\">\n",
       "  <thead>\n",
       "    <tr style=\"text-align: right;\">\n",
       "      <th></th>\n",
       "      <th>rss</th>\n",
       "      <th>intercept</th>\n",
       "      <th>ABCUBK</th>\n",
       "      <th>ABCUOTH</th>\n",
       "      <th>ABCXBK</th>\n",
       "      <th>ABCXOTH</th>\n",
       "      <th>ASCEOTH</th>\n",
       "      <th>ASCERES</th>\n",
       "      <th>ASDROTH</th>\n",
       "      <th>ASDRRES</th>\n",
       "      <th>...</th>\n",
       "      <th>uccomre</th>\n",
       "      <th>uccomres</th>\n",
       "      <th>uccomreu</th>\n",
       "      <th>uccrcd</th>\n",
       "      <th>ucln</th>\n",
       "      <th>ucloc</th>\n",
       "      <th>ucother</th>\n",
       "      <th>ucover1</th>\n",
       "      <th>ucsc</th>\n",
       "      <th>voliab</th>\n",
       "    </tr>\n",
       "  </thead>\n",
       "  <tbody>\n",
       "    <tr>\n",
       "      <th>alpha_10</th>\n",
       "      <td>9.97773e+16</td>\n",
       "      <td>71075.3</td>\n",
       "      <td>0.000548664</td>\n",
       "      <td>0.196176</td>\n",
       "      <td>0.0801796</td>\n",
       "      <td>0.271901</td>\n",
       "      <td>0.00449199</td>\n",
       "      <td>0.000160312</td>\n",
       "      <td>-0.000397783</td>\n",
       "      <td>-0.0103442</td>\n",
       "      <td>...</td>\n",
       "      <td>0.0258356</td>\n",
       "      <td>0.0324174</td>\n",
       "      <td>0.0658192</td>\n",
       "      <td>0.00135543</td>\n",
       "      <td>0.00122396</td>\n",
       "      <td>0.00613512</td>\n",
       "      <td>0.00262468</td>\n",
       "      <td>0.0035316</td>\n",
       "      <td>0.463981</td>\n",
       "      <td>0.00122253</td>\n",
       "    </tr>\n",
       "    <tr>\n",
       "      <th>alpha_20</th>\n",
       "      <td>1.68175e+17</td>\n",
       "      <td>58005.9</td>\n",
       "      <td>0.0033717</td>\n",
       "      <td>0.16465</td>\n",
       "      <td>0.0746158</td>\n",
       "      <td>0.200911</td>\n",
       "      <td>0.02293</td>\n",
       "      <td>0.000374525</td>\n",
       "      <td>0.0054786</td>\n",
       "      <td>-0.00411954</td>\n",
       "      <td>...</td>\n",
       "      <td>0.023996</td>\n",
       "      <td>0.030216</td>\n",
       "      <td>0.0608718</td>\n",
       "      <td>0.00106014</td>\n",
       "      <td>0.00101607</td>\n",
       "      <td>0.00630827</td>\n",
       "      <td>0.00231842</td>\n",
       "      <td>0.00308894</td>\n",
       "      <td>0.413447</td>\n",
       "      <td>0.00114651</td>\n",
       "    </tr>\n",
       "  </tbody>\n",
       "</table>\n",
       "<p>2 rows × 762 columns</p>\n",
       "</div>"
      ],
      "text/plain": [
       "                  rss intercept       ABCUBK   ABCUOTH     ABCXBK   ABCXOTH  \\\n",
       "alpha_10  9.97773e+16   71075.3  0.000548664  0.196176  0.0801796  0.271901   \n",
       "alpha_20  1.68175e+17   58005.9    0.0033717   0.16465  0.0746158  0.200911   \n",
       "\n",
       "             ASCEOTH      ASCERES      ASDROTH     ASDRRES  ...    uccomre  \\\n",
       "alpha_10  0.00449199  0.000160312 -0.000397783  -0.0103442  ...  0.0258356   \n",
       "alpha_20     0.02293  0.000374525    0.0054786 -0.00411954  ...   0.023996   \n",
       "\n",
       "           uccomres   uccomreu      uccrcd        ucln       ucloc  \\\n",
       "alpha_10  0.0324174  0.0658192  0.00135543  0.00122396  0.00613512   \n",
       "alpha_20   0.030216  0.0608718  0.00106014  0.00101607  0.00630827   \n",
       "\n",
       "             ucother     ucover1      ucsc      voliab  \n",
       "alpha_10  0.00262468   0.0035316  0.463981  0.00122253  \n",
       "alpha_20  0.00231842  0.00308894  0.413447  0.00114651  \n",
       "\n",
       "[2 rows x 762 columns]"
      ]
     },
     "execution_count": 27,
     "metadata": {},
     "output_type": "execute_result"
    }
   ],
   "source": [
    "coef_matrix_ridge"
   ]
  },
  {
   "cell_type": "code",
   "execution_count": 34,
   "metadata": {},
   "outputs": [
    {
     "data": {
      "text/plain": [
       "alpha_10    11\n",
       "dtype: int64"
      ]
     },
     "execution_count": 34,
     "metadata": {},
     "output_type": "execute_result"
    }
   ],
   "source": [
    "(coef_matrix_ridge== 0).astype(int).sum(axis=1)"
   ]
  },
  {
   "cell_type": "markdown",
   "metadata": {},
   "source": [
    "# for alpha=10\n",
    "bkprem    Bank premises and fixed assets\n",
    "eqconsub   Equity, minor interest in consolidated subs\n",
    "intangw   Goodwill\n",
    "intan     Goodwill and other intangibles\n",
    "eqsur    Surplus\n",
    "RBCT1J    Tier one (core) capital\n",
    "eq\t      Bank equity capital\n",
    "eqtot     Total equity capital\n",
    "RWAJT    Total risk weighted assets adjusted\n",
    "RBCT1J    Tier one (core) capital"
   ]
  },
  {
   "cell_type": "code",
   "execution_count": 37,
   "metadata": {},
   "outputs": [],
   "source": [
    "from sklearn.linear_model import Lasso\n",
    "def lasso_regression(data, predictors, alpha):\n",
    "    #Fit the model\n",
    "    lassoreg = Lasso(alpha=alpha,normalize=True, max_iter=1e5)\n",
    "    lassoreg.fit(data[predictors],data['net_asset'])\n",
    "    y_pred = lassoreg.predict(data[predictors])\n",
    "    \n",
    "    \n",
    "    #Return the result in pre-defined format\n",
    "    rss = sum((y_pred-data['net_asset'])**2)\n",
    "    ret = [rss]\n",
    "    ret.extend([lassoreg.intercept_])\n",
    "    ret.extend(lassoreg.coef_)\n",
    "    return ret"
   ]
  },
  {
   "cell_type": "code",
   "execution_count": 38,
   "metadata": {},
   "outputs": [],
   "source": [
    "#Initialize predictors to all 15 powers of x\n",
    "predictors=x_variables\n",
    "\n",
    "\n",
    "#Define the alpha values to test\n",
    "alpha_lasso = [1e-15, 1e-10, 1e-8, 1e-5,1e-4, 1e-3,1e-2, 1, 5, 10]\n",
    "\n",
    "#Initialize the dataframe to store coefficients\n",
    "col = ['rss','intercept'] + x_variables\n",
    "ind = ['alpha_%.2g'%alpha_lasso[i] for i in range(len(alpha_lasso))]\n",
    "coef_matrix_lasso = pd.DataFrame(index=ind, columns=col)\n",
    "\n",
    "#Iterate over the 10 alpha values:\n",
    "for i in range(len(alpha_lasso)):\n",
    "coef_matrix_lasso.iloc[i,] = lasso_regression(DF1, predictors, alpha_lasso[i])"
   ]
  },
  {
   "cell_type": "code",
   "execution_count": 39,
   "metadata": {},
   "outputs": [
    {
     "data": {
      "text/html": [
       "<div>\n",
       "<style scoped>\n",
       "    .dataframe tbody tr th:only-of-type {\n",
       "        vertical-align: middle;\n",
       "    }\n",
       "\n",
       "    .dataframe tbody tr th {\n",
       "        vertical-align: top;\n",
       "    }\n",
       "\n",
       "    .dataframe thead th {\n",
       "        text-align: right;\n",
       "    }\n",
       "</style>\n",
       "<table border=\"1\" class=\"dataframe\">\n",
       "  <thead>\n",
       "    <tr style=\"text-align: right;\">\n",
       "      <th></th>\n",
       "      <th>rss</th>\n",
       "      <th>intercept</th>\n",
       "      <th>ABCUBK</th>\n",
       "      <th>ABCUOTH</th>\n",
       "      <th>ABCXBK</th>\n",
       "      <th>ABCXOTH</th>\n",
       "      <th>ASCEOTH</th>\n",
       "      <th>ASCERES</th>\n",
       "      <th>ASDROTH</th>\n",
       "      <th>ASDRRES</th>\n",
       "      <th>...</th>\n",
       "      <th>uccomre</th>\n",
       "      <th>uccomres</th>\n",
       "      <th>uccomreu</th>\n",
       "      <th>uccrcd</th>\n",
       "      <th>ucln</th>\n",
       "      <th>ucloc</th>\n",
       "      <th>ucother</th>\n",
       "      <th>ucover1</th>\n",
       "      <th>ucsc</th>\n",
       "      <th>voliab</th>\n",
       "    </tr>\n",
       "  </thead>\n",
       "  <tbody>\n",
       "    <tr>\n",
       "      <th>alpha_10</th>\n",
       "      <td>3.41162e+13</td>\n",
       "      <td>508.34</td>\n",
       "      <td>0</td>\n",
       "      <td>0</td>\n",
       "      <td>0</td>\n",
       "      <td>0</td>\n",
       "      <td>0</td>\n",
       "      <td>0</td>\n",
       "      <td>0</td>\n",
       "      <td>0</td>\n",
       "      <td>...</td>\n",
       "      <td>0</td>\n",
       "      <td>0</td>\n",
       "      <td>0</td>\n",
       "      <td>0</td>\n",
       "      <td>0</td>\n",
       "      <td>0</td>\n",
       "      <td>0</td>\n",
       "      <td>0</td>\n",
       "      <td>0</td>\n",
       "      <td>0</td>\n",
       "    </tr>\n",
       "  </tbody>\n",
       "</table>\n",
       "<p>1 rows × 762 columns</p>\n",
       "</div>"
      ],
      "text/plain": [
       "                  rss intercept ABCUBK ABCUOTH ABCXBK ABCXOTH ASCEOTH ASCERES  \\\n",
       "alpha_10  3.41162e+13    508.34      0       0      0       0       0       0   \n",
       "\n",
       "         ASDROTH ASDRRES  ... uccomre uccomres uccomreu uccrcd ucln ucloc  \\\n",
       "alpha_10       0       0  ...       0        0        0      0    0     0   \n",
       "\n",
       "         ucother ucover1 ucsc voliab  \n",
       "alpha_10       0       0    0      0  \n",
       "\n",
       "[1 rows x 762 columns]"
      ]
     },
     "execution_count": 39,
     "metadata": {},
     "output_type": "execute_result"
    }
   ],
   "source": [
    "coef_matrix_lasso"
   ]
  },
  {
   "cell_type": "code",
   "execution_count": 30,
   "metadata": {},
   "outputs": [
    {
     "data": {
      "text/html": [
       "<div>\n",
       "<style scoped>\n",
       "    .dataframe tbody tr th:only-of-type {\n",
       "        vertical-align: middle;\n",
       "    }\n",
       "\n",
       "    .dataframe tbody tr th {\n",
       "        vertical-align: top;\n",
       "    }\n",
       "\n",
       "    .dataframe thead th {\n",
       "        text-align: right;\n",
       "    }\n",
       "</style>\n",
       "<table border=\"1\" class=\"dataframe\">\n",
       "  <thead>\n",
       "    <tr style=\"text-align: right;\">\n",
       "      <th></th>\n",
       "      <th>rss</th>\n",
       "      <th>intercept</th>\n",
       "      <th>eq</th>\n",
       "      <th>eqconsub</th>\n",
       "      <th>eqtot</th>\n",
       "      <th>RBCT1J</th>\n",
       "      <th>bkprem</th>\n",
       "      <th>intangw</th>\n",
       "      <th>intan</th>\n",
       "      <th>eqsur</th>\n",
       "      <th>RWAJT</th>\n",
       "    </tr>\n",
       "  </thead>\n",
       "  <tbody>\n",
       "    <tr>\n",
       "      <th>alpha_10</th>\n",
       "      <td>3.41162e+13</td>\n",
       "      <td>508.34</td>\n",
       "      <td>0.871829</td>\n",
       "      <td>0.762003</td>\n",
       "      <td>0.102153</td>\n",
       "      <td>0.0241921</td>\n",
       "      <td>0.00878466</td>\n",
       "      <td>0.00759846</td>\n",
       "      <td>0.00699885</td>\n",
       "      <td>0.00233403</td>\n",
       "      <td>3.49175e-05</td>\n",
       "    </tr>\n",
       "  </tbody>\n",
       "</table>\n",
       "</div>"
      ],
      "text/plain": [
       "                  rss intercept        eq  eqconsub     eqtot     RBCT1J  \\\n",
       "alpha_10  3.41162e+13    508.34  0.871829  0.762003  0.102153  0.0241921   \n",
       "\n",
       "              bkprem     intangw       intan       eqsur        RWAJT  \n",
       "alpha_10  0.00878466  0.00759846  0.00699885  0.00233403  3.49175e-05  "
      ]
     },
     "execution_count": 30,
     "metadata": {},
     "output_type": "execute_result"
    }
   ],
   "source": [
    "coef_matrix_lasso_nonzero = coef_matrix_lasso.loc[:, (coef_matrix_lasso != 0).any(axis=0)]\n",
    "\n",
    "coef_matrix_lasso_nonzero = coef_matrix_lasso_nonzero.sort_values(by ='alpha_10', axis=1,ascending=False)\n",
    "coef_matrix_lasso_nonzero"
   ]
  },
  {
   "cell_type": "markdown",
   "metadata": {},
   "source": [
    "# alpha =10\n",
    "eq\t      Bank equity capital\n",
    "eqconsub   Equity, minor interest in consolidated subs\n",
    "eqtot     Total equity capital\n",
    "RBCT1J    Tier one (core) capital\n",
    "bkprem    Bank premises and fixed assets\n",
    "intangw   Goodwill\n",
    "intan     Goodwill and other intangibles\n",
    "eqsur    Surplus\n",
    "RWAJT    Total risk weighted assets adjusted"
   ]
  }
 ],
 "metadata": {
  "kernelspec": {
   "display_name": "Python 3",
   "language": "python",
   "name": "python3"
  },
  "language_info": {
   "codemirror_mode": {
    "name": "ipython",
    "version": 3
   },
   "file_extension": ".py",
   "mimetype": "text/x-python",
   "name": "python",
   "nbconvert_exporter": "python",
   "pygments_lexer": "ipython3",
   "version": "3.7.4"
  },
  "toc": {
   "base_numbering": 1,
   "nav_menu": {},
   "number_sections": true,
   "sideBar": true,
   "skip_h1_title": false,
   "title_cell": "Table of Contents",
   "title_sidebar": "Contents",
   "toc_cell": false,
   "toc_position": {},
   "toc_section_display": true,
   "toc_window_display": false
  }
 },
 "nbformat": 4,
 "nbformat_minor": 2
}
