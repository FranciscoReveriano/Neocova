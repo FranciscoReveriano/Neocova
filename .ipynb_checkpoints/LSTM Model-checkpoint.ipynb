{
 "cells": [
  {
   "cell_type": "markdown",
   "metadata": {},
   "source": [
    "# LSTM PyTorch Model"
   ]
  },
  {
   "cell_type": "code",
   "execution_count": 1,
   "metadata": {
    "ExecuteTime": {
     "end_time": "2020-06-21T17:14:36.828233Z",
     "start_time": "2020-06-21T17:14:36.588370Z"
    }
   },
   "outputs": [],
   "source": [
    "import pandas as pd"
   ]
  },
  {
   "cell_type": "code",
   "execution_count": 2,
   "metadata": {
    "ExecuteTime": {
     "end_time": "2020-06-21T17:15:27.000431Z",
     "start_time": "2020-06-21T17:14:50.388557Z"
    }
   },
   "outputs": [
    {
     "name": "stdout",
     "output_type": "stream",
     "text": [
      "<class 'pandas.core.frame.DataFrame'>\n",
      "RangeIndex: 435110 entries, 0 to 435109\n",
      "Columns: 761 entries, ABCUBK to voliab\n",
      "dtypes: float64(761)\n",
      "memory usage: 2.5 GB\n"
     ]
    }
   ],
   "source": [
    "DF=pd.read_csv(\"Datasets/merged dataset_SDI_median.csv\")\n",
    "DF1=DF.copy()\n",
    "DF1['net_asset']=DF1['asset']-DF1['liab']\n",
    "DF1['net_asset']\n",
    "DF1 = DF1[DF1.columns.difference(['asset', 'liab'])]\n",
    "DF1.info()"
   ]
  },
  {
   "cell_type": "code",
   "execution_count": 3,
   "metadata": {
    "ExecuteTime": {
     "end_time": "2020-06-21T17:15:28.132755Z",
     "start_time": "2020-06-21T17:15:27.002587Z"
    }
   },
   "outputs": [],
   "source": [
    "# Create Target Variables\n",
    "Y = DF1[\"net_asset\"]\n",
    "X = DF1.copy()\n",
    "X = X.drop(columns=[\"net_asset\"])"
   ]
  },
  {
   "cell_type": "code",
   "execution_count": 4,
   "metadata": {
    "ExecuteTime": {
     "end_time": "2020-06-21T17:15:28.145663Z",
     "start_time": "2020-06-21T17:15:28.134280Z"
    }
   },
   "outputs": [],
   "source": [
    "# Clear Dataframes for Memory Purposes\n",
    "DF, DF1 = None, None"
   ]
  },
  {
   "cell_type": "markdown",
   "metadata": {
    "ExecuteTime": {
     "end_time": "2020-06-21T17:15:54.162234Z",
     "start_time": "2020-06-21T17:15:53.539633Z"
    }
   },
   "source": [
    "# Create PyTorch Experiment"
   ]
  },
  {
   "cell_type": "code",
   "execution_count": 6,
   "metadata": {
    "ExecuteTime": {
     "end_time": "2020-06-21T17:16:07.880733Z",
     "start_time": "2020-06-21T17:16:07.869699Z"
    }
   },
   "outputs": [],
   "source": [
    "import torch\n",
    "from sklearn.model_selection import KFold\n",
    "from tqdm.notebook import tqdm\n",
    "from sklearn.metrics import mean_squared_error\n",
    "import torch.nn.functional as F\n",
    "from torch.optim.lr_scheduler import CosineAnnealingLR\n",
    "import numpy as np\n",
    "import matplotlib.pyplot as plt\n",
    "from sklearn.model_selection import train_test_split\n",
    "%matplotlib notebook"
   ]
  },
  {
   "cell_type": "code",
   "execution_count": null,
   "metadata": {},
   "outputs": [],
   "source": [
    "# Declare LSTM Model\n",
    "class LSTM(torch.nn.Module):\n",
    "    def __init__(self, input_size, hidden_layer_size=100, output_size=1):\n",
    "        super(LSTM,self).__init__()\n",
    "        self.hidden_layer_size = hidden_layer_size\n",
    "        self.lstm = nn.LSTM(input_size, hidden_layer_size)\n",
    "        self.linear = nn.Linear(hidden_layer_size, output_size)\n",
    "    def forward(self, input_seq):\n",
    "        stm_out, self.hidden_cell = self.lstm(input_seq.view(len(input_seq) ,1, -1), self.hidden_cell)\n",
    "        predictions = self.linear(lstm_out.view(len(input_seq), -1))\n",
    "        return predictions[-1]\n",
    "        "
   ]
  }
 ],
 "metadata": {
  "kernelspec": {
   "display_name": "Python [conda env:AI] *",
   "language": "python",
   "name": "conda-env-AI-py"
  },
  "language_info": {
   "codemirror_mode": {
    "name": "ipython",
    "version": 3
   },
   "file_extension": ".py",
   "mimetype": "text/x-python",
   "name": "python",
   "nbconvert_exporter": "python",
   "pygments_lexer": "ipython3",
   "version": "3.7.4"
  },
  "toc": {
   "base_numbering": 1,
   "nav_menu": {},
   "number_sections": true,
   "sideBar": true,
   "skip_h1_title": false,
   "title_cell": "Table of Contents",
   "title_sidebar": "Contents",
   "toc_cell": false,
   "toc_position": {},
   "toc_section_display": true,
   "toc_window_display": false
  }
 },
 "nbformat": 4,
 "nbformat_minor": 4
}
